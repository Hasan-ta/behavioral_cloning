{
 "cells": [
  {
   "cell_type": "code",
   "execution_count": 1,
   "metadata": {
    "collapsed": false
   },
   "outputs": [
    {
     "name": "stderr",
     "output_type": "stream",
     "text": [
      "Using TensorFlow backend.\n"
     ]
    }
   ],
   "source": [
    "import cv2\n",
    "import numpy as np\n",
    "import matplotlib.pyplot as plt\n",
    "import matplotlib.gridspec as gridspec\n",
    "import matplotlib.image as mpimg\n",
    "from sklearn.model_selection import train_test_split\n",
    "from sklearn.preprocessing import LabelBinarizer\n",
    "from sklearn.utils import shuffle\n",
    "from keras.datasets import cifar10\n",
    "from keras.models import Sequential, Model\n",
    "from keras.layers import Dense, Activation, Reshape, Input, Flatten\n",
    "from keras.layers import Convolution2D, MaxPooling2D, Dropout\n",
    "from keras.utils import np_utils\n",
    "import csv\n",
    "import keras\n",
    "%matplotlib inline"
   ]
  },
  {
   "cell_type": "code",
   "execution_count": 2,
   "metadata": {
    "collapsed": false
   },
   "outputs": [
    {
     "name": "stdout",
     "output_type": "stream",
     "text": [
      "9995\n",
      "1111\n"
     ]
    }
   ],
   "source": [
    "def read_log_files(data_path, split_data=False):\n",
    "    all_data = []\n",
    "    for path in data_path:\n",
    "        counter = 0\n",
    "        log_path = path + \"/driving_log.csv\"\n",
    "        with open(log_path) as logFile:\n",
    "            reader = csv.reader(logFile)\n",
    "            numOfLines = sum(1 for row in reader) - 1\n",
    "            logFile.seek(1)\n",
    "            for row in reader:\n",
    "                if(counter > 0):\n",
    "                    all_data.append(row)\n",
    "                counter += 1\n",
    "                    \n",
    "                \n",
    "    if(split_data):\n",
    "        from sklearn.utils import shuffle\n",
    "        #all_data = shuffle(all_data)\n",
    "        val_i = np.floor(0.9*len(all_data)).astype(np.uint)\n",
    "        train_data = all_data[0:val_i];\n",
    "        val_data = all_data[val_i:];\n",
    "        return train_data, val_data\n",
    "    else:\n",
    "        return all_data\n",
    "    \n",
    "training_path = [\"../../training_data/data1\", \"../../training_data/data1\"]\n",
    "train_data, val_data = read_log_files(training_path, split_data=True)\n",
    "print(len(train_data))\n",
    "print(len(val_data))\n",
    "\n",
    "swa_i = 3\n",
    "cc_i = 0\n",
    "lc_i=1\n",
    "rc_i = 2\n",
    "\n",
    "pr_threshold = 1"
   ]
  },
  {
   "cell_type": "code",
   "execution_count": 3,
   "metadata": {
    "collapsed": false
   },
   "outputs": [],
   "source": [
    "cols = 320; rows = 160\n",
    "\n",
    "def augment_brightness_camera_images(image):\n",
    "    image1 = cv2.cvtColor(image,cv2.COLOR_RGB2HSV)\n",
    "    random_bright = .25+np.random.uniform()\n",
    "    image1[:,:,2] = image1[:,:,2]*random_bright\n",
    "    image1 = cv2.cvtColor(image1,cv2.COLOR_HSV2RGB)\n",
    "    return image1\n",
    "\n",
    "def trans_image(image,steer,trans_range):\n",
    "    # Translation\n",
    "    tr_x = trans_range*np.random.uniform()-trans_range/2\n",
    "    steer_ang = ((steer) + tr_x/trans_range*2*.2)\n",
    "    tr_y = 40*np.random.uniform()-40/2\n",
    "    Trans_M = np.float32([[1,0,tr_x],[0,1,tr_y]])\n",
    "    image_tr = cv2.warpAffine(image,Trans_M,(cols,rows))\n",
    "    \n",
    "    return image_tr,steer_ang\n",
    "\n",
    "def add_random_shadow(image):\n",
    "    top_y = 320*np.random.uniform()\n",
    "    top_x = 0\n",
    "    bot_x = 160\n",
    "    bot_y = 320*np.random.uniform()\n",
    "    image_hls = cv2.cvtColor(image,cv2.COLOR_RGB2HLS)\n",
    "    shadow_mask = 0*image_hls[:,:,1]\n",
    "    X_m = np.mgrid[0:image.shape[0],0:image.shape[1]][0]\n",
    "    Y_m = np.mgrid[0:image.shape[0],0:image.shape[1]][1]\n",
    "    shadow_mask[((X_m-top_x)*(bot_y-top_y) -(bot_x - top_x)*(Y_m-top_y) >=0)]=1\n",
    "    #random_bright = .25+.7*np.random.uniform()\n",
    "    if np.random.randint(2)==1:\n",
    "        random_bright = .5\n",
    "        cond1 = shadow_mask==1\n",
    "        cond0 = shadow_mask==0\n",
    "        if np.random.randint(2)==1:\n",
    "            image_hls[:,:,1][cond1] = image_hls[:,:,1][cond1]*random_bright\n",
    "        else:\n",
    "            image_hls[:,:,1][cond0] = image_hls[:,:,1][cond0]*random_bright    \n",
    "    image = cv2.cvtColor(image_hls,cv2.COLOR_HLS2RGB)\n",
    "    return image\n",
    "\n",
    "\n",
    "def preprocess_images(X, img_length, img_width):\n",
    "    img = X[40:,:,:]\n",
    "    img1 = cv2.resize(img,dsize=(img_length,img_width)).astype(np.float32)\n",
    "    #img1[:,:,0] -= 103.939\n",
    "    #img1[:,:,1] -= 116.779\n",
    "    #img1[:,:,2] -= 123.68\n",
    "    return img1\n",
    "\n",
    "def preprocess_image_file_train(line):\n",
    "    i_lrc = np.random.randint(3)\n",
    "    if (i_lrc == 0):\n",
    "        img_path = line[lc_i][1:]\n",
    "        shift_ang = .25\n",
    "    if (i_lrc == 1):\n",
    "        img_path = line[cc_i]\n",
    "        shift_ang = .0\n",
    "    if (i_lrc == 2):\n",
    "        img_path = line[rc_i][1:]\n",
    "        shift_ang = -.25\n",
    "        \n",
    "    shift_ang = .0\n",
    "    swa = float(line[swa_i])+ shift_ang\n",
    "    \n",
    "    if(img_path[0:5] != '/home'):\n",
    "        img_path = \"../../training_data/data/\"+img_path\n",
    "    else:\n",
    "        img_path = img_path\n",
    "    raw_img = cv2.imread(img_path,cv2.IMREAD_COLOR)\n",
    "    raw_img = cv2.cvtColor(raw_img,cv2.COLOR_BGR2RGB)\n",
    "    image,y_steer = trans_image(raw_img,swa,100)\n",
    "    image = augment_brightness_camera_images(image)\n",
    "    image = preprocess_images(image, 64, 64)\n",
    "    #image = np.array(image)\n",
    "    ind_flip = np.random.randint(2)\n",
    "    if ind_flip==0:\n",
    "        image = cv2.flip(image,1)\n",
    "        y_steer = -y_steer\n",
    "        \n",
    "    '''\n",
    "    pr_unif = np.random.uniform()\n",
    "    if(pr_unif < 0.3):\n",
    "        add_random_shadow(image)\n",
    "    '''\n",
    "    return image,y_steer\n",
    "\n",
    "def data_augmentation_engine(data, batch_size = 32):\n",
    "    batch_images = np.zeros((batch_size, 64, 64, 3))\n",
    "    batch_steering = np.zeros(batch_size)\n",
    "    while True:\n",
    "        for i_batch in range(batch_size):\n",
    "            i_line = np.random.randint(len(data))\n",
    "            keep_pr = 0 \n",
    "            pr_threshold = 0.6\n",
    "            while keep_pr == 0:\n",
    "                x,y = preprocess_image_file_train(data[i_line])\n",
    "                pr_unif = np.random\n",
    "                if abs(y)<(.1):\n",
    "                    pr_val = np.random.uniform()\n",
    "                    if pr_val>pr_threshold:\n",
    "                        keep_pr = 1\n",
    "                else:\n",
    "                    keep_pr = 1\n",
    "                    \n",
    "            batch_images[i_batch] = x\n",
    "            batch_steering[i_batch] = y\n",
    "        yield batch_images, batch_steering"
   ]
  },
  {
   "cell_type": "code",
   "execution_count": 4,
   "metadata": {
    "collapsed": true
   },
   "outputs": [],
   "source": [
    "def complete_model():\n",
    "\n",
    "    img_input = Input(shape=[64,64,3])\n",
    "    \n",
    "    x = Convolution2D(3, 1, 1, init='he_normal', activation='relu', border_mode='same', name='norm')(img_input)\n",
    "\n",
    "    x = Convolution2D(32, 3, 3, init='he_normal', activation='relu', border_mode='same', name='block1_conv1')(x)\n",
    "    x = Convolution2D(32, 3, 3, init='he_normal', activation='relu', border_mode='same', name='block1_conv2')(x)\n",
    "    x = MaxPooling2D((2, 2), strides=(2, 2), name='block1_pool')(x)\n",
    "    x = Dropout(0.5)(x)\n",
    "\n",
    "    x = Convolution2D(64, 3, 3, init='he_normal', activation='relu', border_mode='same', name='block2_conv1')(x)\n",
    "    x = Convolution2D(64, 3, 3, init='he_normal', activation='relu', border_mode='same', name='block2_conv2')(x)\n",
    "    x = MaxPooling2D((2, 2), strides=(2, 2), name='block2_pool')(x)\n",
    "    x = Dropout(0.5)(x)\n",
    "\n",
    "    x = Convolution2D(128, 3, 3, init='he_normal', activation='relu', border_mode='same', name='block3_conv1')(x)\n",
    "    x = Convolution2D(128, 3, 3, init='he_normal', activation='relu', border_mode='same', name='block3_conv2')(x)\n",
    "    x = MaxPooling2D((2, 2), strides=(2, 2), name='block3_pool')(x)\n",
    "    x = Dropout(0.5)(x)\n",
    "\n",
    "    x = Flatten(name='my_flatten_1')(x)\n",
    "    x = Dense(512, init='he_normal', activation='relu', name='my_fc1')(x)\n",
    "    x = Dense(64, init='he_normal', activation='relu', name='my_fc2')(x)\n",
    "    x = Dense(16, init='he_normal', activation='relu', name='my_fc3')(x)\n",
    "    x = Dense(1, name='predictions')(x)\n",
    "\n",
    "    model = Model(img_input, x, name='my_model')\n",
    "\n",
    "    return model"
   ]
  },
  {
   "cell_type": "code",
   "execution_count": null,
   "metadata": {
    "collapsed": true
   },
   "outputs": [],
   "source": [
    "val_images = np.zeros((len(val_data),64,64,3))\n",
    "val_swa = np.zeros((len(val_data)))           \n",
    "for i, line in enumerate(val_data):\n",
    "    if(str(line[cc_i])[0:5] != '/home'):\n",
    "        img_path = \"../../training_data/data/\"+str(line[cc_i])\n",
    "    else:\n",
    "        img_path = str(line[cc_i])\n",
    "    img = cv2.imread(img_path,cv2.IMREAD_COLOR)\n",
    "    img = cv2.cvtColor(img,cv2.COLOR_BGR2RGB)\n",
    "    val_images[i] = preprocess_images(img,64,64)\n",
    "    val_swa[i] = float(line[3])"
   ]
  },
  {
   "cell_type": "code",
   "execution_count": null,
   "metadata": {
    "collapsed": false
   },
   "outputs": [],
   "source": [
    "batch_size = 512\n",
    "final_model = complete_model()\n",
    "\n",
    "adam = keras.optimizers.Adam(lr=0.001, beta_1=0.9, beta_2=0.999, epsilon=1e-08, decay=0.0)\n",
    "#hyperparameter_selection(final_model, adam, 30, 'learning_rate', X_val, y_val)\n",
    "\n",
    "final_model.compile(loss='mean_squared_error',\n",
    "          optimizer=adam,\n",
    "          metrics=['mean_absolute_error'])\n",
    "\n",
    "model_checkpoint = keras.callbacks.ModelCheckpoint('model.h5', monitor='loss', save_best_only=False)\n",
    "\n",
    "for i in range(20):\n",
    "    print(\"epoch: \" + str(i))\n",
    "    train_generator = data_augmentation_engine(train_data, batch_size)\n",
    "    final_model.fit_generator(\n",
    "            train_generator,\n",
    "            samples_per_epoch=30000,\n",
    "            validation_data=(val_images,val_swa),\n",
    "            nb_epoch=1,\n",
    "            callbacks=[model_checkpoint])\n",
    "\n",
    "    swa = final_model.predict(val_images,512)\n",
    "\n",
    "    plt.plot(val_swa)\n",
    "    plt.plot(swa,'r')\n",
    "    plt.show()\n",
    "\n",
    "final_model.save('model.h5')\n",
    "json_string = final_model.to_json()\n",
    "text_file = open(\"model.json\", \"w\")\n",
    "text_file.write(json_string)\n",
    "text_file.close()\n",
    "final_model.summary()"
   ]
  },
  {
   "cell_type": "code",
   "execution_count": null,
   "metadata": {
    "collapsed": false
   },
   "outputs": [],
   "source": [
    "batch_size = 512\n",
    "final_model = complete_model()\n",
    "final_model.summary()\n",
    "final_model.load_weights('model.h5', by_name=True)\n",
    "\n",
    "swa = final_model.predict(val_images,512)\n",
    "\n",
    "plt.plot(val_swa)\n",
    "plt.plot(swa,'r')\n",
    "plt.show()"
   ]
  },
  {
   "cell_type": "code",
   "execution_count": null,
   "metadata": {
    "collapsed": true
   },
   "outputs": [],
   "source": []
  },
  {
   "cell_type": "code",
   "execution_count": null,
   "metadata": {
    "collapsed": true
   },
   "outputs": [],
   "source": []
  }
 ],
 "metadata": {
  "kernelspec": {
   "display_name": "Python 2",
   "language": "python",
   "name": "python2"
  },
  "language_info": {
   "codemirror_mode": {
    "name": "ipython",
    "version": 2
   },
   "file_extension": ".py",
   "mimetype": "text/x-python",
   "name": "python",
   "nbconvert_exporter": "python",
   "pygments_lexer": "ipython2",
   "version": "2.7.6"
  }
 },
 "nbformat": 4,
 "nbformat_minor": 1
}
